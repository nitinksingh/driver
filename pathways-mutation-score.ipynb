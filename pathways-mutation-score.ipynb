{
 "metadata": {
  "name": "",
  "signature": "sha256:4260ff971e5485715fff3b760ee8961cbce5bc55c8a6acdb3f2851380912e314"
 },
 "nbformat": 3,
 "nbformat_minor": 0,
 "worksheets": [
  {
   "cells": [
    {
     "cell_type": "heading",
     "level": 2,
     "metadata": {},
     "source": [
      "Import Libraries"
     ]
    },
    {
     "cell_type": "code",
     "collapsed": false,
     "input": [
      "from __future__ import division\n",
      "import os\n",
      "import math\n",
      "%matplotlib inline\n",
      "import numpy as np\n",
      "import pylab\n",
      "import matplotlib.pyplot as plt\n",
      "from matplotlib import rc\n",
      "import scipy.stats as stats\n",
      "import pandas as pd\n",
      "\n",
      "from IPython.html.widgets import interact\n",
      "from IPython.html import widgets\n",
      "from IPython.display import display\n",
      "\n",
      "from mutation_analysis import analyze_pathway_mutations"
     ],
     "language": "python",
     "metadata": {},
     "outputs": [],
     "prompt_number": 25
    },
    {
     "cell_type": "markdown",
     "metadata": {},
     "source": [
      "## Pathway Mutation Enrichment Analysis \n",
      "It is natural to ask if there are some pathways that show statistically significant difference\n",
      "between \"silent\" and \"non-silent\" mutation rates. In the following section, we attempt to identify\n",
      "pathways that indeed are enriched for non-silent mutations."
     ]
    },
    {
     "cell_type": "code",
     "collapsed": false,
     "input": [
      "cohort = \"ACC BLCA BRCA CESC CHOL COAD COADREAD DLBC ESCA FPPP GBM GBMLGG HNSC KICH KIRC KIRP LAML LGG LIHC LUAD LUSC MESO OV PAAD PRAD READ SARC SKCM STAD TGCT THCA THYM UCEC UCS UVM\"\n",
      "\n",
      "can_types = []\n",
      "for c in cohort.split():\n",
      "    f1 = '../results/' + c + os.sep + 'silent_mutation_pathway_score.txt'\n",
      "    f2 = '../results/' + c + os.sep + 'nsilent_mutation_pathway_score.txt'\n",
      "    if os.path.exists(f1) and os.path.exists(f2):\n",
      "        can_types.append(c)\n",
      "\n",
      "print \"There are %d cancer types ready to be analysed\" % len(can_types)\n",
      "can_type_wid = widgets.DropdownWidget(description=\"Select Cancer Type\", values=can_types)\n",
      "display(can_type_wid)"
     ],
     "language": "python",
     "metadata": {},
     "outputs": [
      {
       "output_type": "stream",
       "stream": "stdout",
       "text": [
        "There are 27 cancer types ready to be analysed\n"
       ]
      }
     ],
     "prompt_number": 26
    },
    {
     "cell_type": "code",
     "collapsed": false,
     "input": [
      "can = can_type_wid.value\n",
      "opt = 'silent'\n",
      "input_fpath = '../results/' + can + os.sep + opt +'_mutation_pathway_score.txt'\n",
      "sdf = pd.read_table(input_fpath, sep='\\t', header=0, index_col=0)\n",
      "opt = 'nsilent'\n",
      "input_fpath = '../results/' + can + os.sep + opt +'_mutation_pathway_score.txt'\n",
      "nsdf = pd.read_table(input_fpath, sep='\\t', header=0, index_col=0)\n",
      "\n",
      "res = pd.Series(index=sdf.index)\n",
      "for p in sdf.index:\n",
      "    res.loc[p] = -1*math.log10(stats.ttest_ind(sdf.loc[p], nsdf.loc[p], equal_var=False)[1])\n",
      "\n",
      "@interact(pval=widgets.FloatSliderWidget(min=res.min(), max=res.max(), value=max(res.max()-5, res.min()), step=1))\n",
      "def plot_entiched(pval):\n",
      "    pylab.rcParams['figure.figsize'] = (12.0, 8.0)\n",
      "    res[res > pval].order().plot(title=can + \" Enriched Pathways vs t-test P-values (-log10)\", kind='barh', rot=0)\n",
      "\n"
     ],
     "language": "python",
     "metadata": {},
     "outputs": [
      {
       "metadata": {},
       "output_type": "display_data",
       "png": "[encoded data removed]",
       "text": [
        "<matplotlib.figure.Figure at 0x7f7353ac77d0>"
       ]
      }
     ],
     "prompt_number": 29
    },
    {
     "cell_type": "markdown",
     "metadata": {},
     "source": [
      "## Observations\n",
      "In this work we analyse mutations patterns in pathways."
     ]
    },
    {
     "cell_type": "markdown",
     "metadata": {},
     "source": [
      "## "
     ]
    }
   ],
   "metadata": {}
  }
 ]
}