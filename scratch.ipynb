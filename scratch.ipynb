{
 "metadata": {
  "name": "",
  "signature": "sha256:662f8d6da4f690d97af6d543c052b312bc4df5424130355d430e421febf8c4c3"
 },
 "nbformat": 3,
 "nbformat_minor": 0,
 "worksheets": [
  {
   "cells": [
    {
     "cell_type": "code",
     "collapsed": false,
     "input": [
      "from __future__ import division\n",
      "%matplotlib inline\n",
      "import numpy as np\n",
      "import matplotlib.pyplot as plt\n",
      "import pylab\n",
      "from matplotlib import rc\n",
      "import pandas as pd\n"
     ],
     "language": "python",
     "metadata": {},
     "outputs": [],
     "prompt_number": 1
    },
    {
     "cell_type": "code",
     "collapsed": false,
     "input": [
      "!ls ../data/processed/ACC"
     ],
     "language": "python",
     "metadata": {},
     "outputs": [
      {
       "output_type": "stream",
       "stream": "stdout",
       "text": [
        "ACC_nsilent_mutation.txt  ACC_silent_mutation.txt  matrix_ACC.merged_only_clinical_clin_format.txt\r\n"
       ]
      }
     ],
     "prompt_number": 4
    },
    {
     "cell_type": "code",
     "collapsed": false,
     "input": [
      "rc('text', usetex=True)\n",
      "plt.plot(range(1, 10), np.array(range(1, 10))**2, label=r\"Parabola: $\\displaystyle k$\")\n",
      "#plt.axis([m, n, min(lower_bound)-2, 2+max(max(upper_bound), max(max_norm_list))])\n",
      "plt.xlabel(\"Number of Nodes\")\n",
      "plt.ylabel(\"Approximate Rank\")\n",
      "plt.title(\"Network with FIXED Number of Communities\")\n",
      "plt.legend(bbox_to_anchor=(1.05, 1), loc=2, borderaxespad=0.)"
     ],
     "language": "python",
     "metadata": {},
     "outputs": []
    }
   ],
   "metadata": {}
  }
 ]
}