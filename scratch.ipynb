{
 "cells": [
  {
   "cell_type": "code",
   "execution_count": null,
   "metadata": {
    "collapsed": false
   },
   "outputs": [],
   "source": [
    "from __future__ import division\n",
    "import os\n",
    "import math\n",
    "%matplotlib inline\n",
    "import numpy as np\n",
    "import matplotlib.pyplot as plt\n",
    "import pylab\n",
    "from matplotlib import rc\n",
    "import pandas as pd\n",
    "import scipy.stats as stats\n",
    "\n",
    "from sklearn.decomposition import PCA\n",
    "from IPython.html.widgets import interact\n",
    "from IPython.html import widgets\n",
    "from IPython.display import display\n",
    "\n",
    "from clustering import get_data, hierarchical_clustering\n",
    "from survival import survival_analysis\n",
    "from clean_data import CANCER_TYPES"
   ]
  },
  {
   "cell_type": "code",
   "execution_count": null,
   "metadata": {
    "collapsed": false
   },
   "outputs": [],
   "source": [
    "can_types = []\n",
    "for c in CANCER_TYPES:\n",
    "    f1 = '../results/' + c + os.sep + 'silent_mutation_pathway_score.txt'\n",
    "    f2 = '../results/' + c + os.sep + 'nsilent_mutation_pathway_score.txt'\n",
    "    f3 = '../data/processed/' + c + os.sep + c + '_clinical.csv'\n",
    "\n",
    "    if os.path.exists(f1) and os.path.exists(f2) and os.path.exists(f3):\n",
    "        can_types.append(c)\n",
    "    \n",
    "print \"There are %d cancer types ready to be analysed\" % len(can_types)\n",
    "can_type_wid = widgets.Dropdown(description=\"Select Cancer Type\", options=can_types)\n",
    "display(can_type_wid)\n",
    "\n"
   ]
  },
  {
   "cell_type": "code",
   "execution_count": null,
   "metadata": {
    "collapsed": false
   },
   "outputs": [],
   "source": [
    "k = 5\n",
    "can = can_type_wid.value\n",
    "(sig_nsdf, clinical_df) = get_data(can, 'mut', nsdf_norm_factor=1)\n",
    "print sig_nsdf.shape\n",
    "clinical_df = clinical_df.loc[clinical_df.time > 0]\n",
    "common_samples = sig_nsdf.columns.intersection(clinical_df.index)\n",
    "sig_nsdf = sig_nsdf[common_samples]\n",
    "clinical_df = clinical_df.loc[common_samples]\n",
    "df = sig_nsdf.transpose()\n",
    "\n",
    "data_array = df[df.columns[:k]].values\n",
    "labels = df.index\n",
    "memb = hierarchical_clustering(data_array, labels)\n",
    "print memb.value_counts()\n"
   ]
  },
  {
   "cell_type": "code",
   "execution_count": null,
   "metadata": {
    "collapsed": false
   },
   "outputs": [],
   "source": [
    "def KM(memb, clinical_df, clusters, drop=''):\n",
    "    memb = memb.copy()\n",
    "    clusts = [int(x) for x in str(clusters)]\n",
    "    rest = list(set(memb.unique()).difference(clusts))\n",
    "\n",
    "    if drop and drop > 0:    \n",
    "        ignore = [int(x) for x in str(drop)]\n",
    "        memb = memb[~memb.isin(ignore)]\n",
    "    if drop and drop < 0:    \n",
    "        ignore = rest\n",
    "        memb = memb[~memb.isin(ignore)]\n",
    "\n",
    "\n",
    "    memb[memb.isin(rest)] = rest[0]\n",
    "#     print memb.value_counts()\n",
    "    clinical_df = clinical_df.join(memb, how='inner', lsuffix='old')\n",
    "    survival_analysis(clinical_df)\n",
    "    print memb.value_counts()\n",
    "    \n",
    "    return memb, clinical_df\n",
    "\n",
    "idx, cdf = KM(memb, clinical_df, 3)\n",
    "# print memb.value_counts()"
   ]
  },
  {
   "cell_type": "code",
   "execution_count": null,
   "metadata": {
    "collapsed": false
   },
   "outputs": [],
   "source": [
    "\n",
    "import pathway_analysis as pathway\n",
    "\n",
    "# Load preprocessed mutation data\n",
    "data_dir = '../data/processed/' + can\n",
    "# mut_categories = ['silent', 'nsilent']\n",
    "mut_categories = ['nsilent']\n",
    "path_df = pathway.preprocess_pathway_data()\n",
    "mut_path = data_dir + os.sep + can_type + '_nsilent_mutation.txt'\n",
    "mut_df = pd.read_table(mut_path, index_col=0, header=0)\n",
    "\n",
    "# path_type_wid = widgets.Dropdown(description=\"Select Pathway\", options=list(sig_nsdf.index[:k]))\n",
    "# display(path_type_wid)\n",
    "\n",
    "\n",
    "\n",
    "# Adopted from to OxanaSachenkova/hclust-python at github\n",
    "def hierarchical_clustering(df, mut_df, path_df, labels='', color_list=None):\n",
    "    data_array = df.transpose().values\n",
    "    if type(labels) == str:\n",
    "        labels = map(str, range(1, data_array.shape[0]+1))\n",
    "    data_dist = pdist(data_array) # computing the distance\n",
    "    Y = linkage(data_dist, method='single')\n",
    "\n",
    "    x0 = 0.2; w=0.7; y00 = 0.93; y01 = 0.8; y = 25\n",
    "    # Compute and plot first dendrogram.\n",
    "    fig = plt.figure(figsize=(20,y))\n",
    "    ax2 = fig.add_axes([x0,y00,w,0.06])\n",
    "    Z2 = dendrogram(Y,labels=labels, leaf_font_size=8)#, color_list=color_list.values)\n",
    "    idx2 = Z2['leaves']\n",
    "    ax2.set_yticks([])\n",
    "   \n",
    "\n",
    "    #Compute and plot the heatmap\n",
    "    axmatrix = fig.add_axes([x0,y01,w,0.1])\n",
    "    D = df.loc[:,df.columns[idx2]].values\n",
    "    im = axmatrix.matshow(D, aspect='auto', origin='upper', cmap=plt.cm.YlGnBu)\n",
    "  \n",
    "    axmatrix.set_yticklabels([''] + list(df.index), rotation=0)\n",
    "    axmatrix.set_xticks([])\n",
    "\n",
    "    \n",
    "    # Plot colorbar.\n",
    "    axcolor = fig.add_axes([0.91,y01,0.02,0.1])\n",
    "    plt.colorbar(im, cax=axcolor)\n",
    "    \n",
    "    cmaps = ['Oranges', 'binary', 'Spectral']\n",
    "    h = y01/df.shape[0] - df.shape[0]*0.01\n",
    "    for i in range(df.shape[0]):\n",
    "        y0 = y01-h*(i+1)\n",
    "    \n",
    "        # Plot individual mutation\n",
    "        ax3 = fig.add_axes([x0,y0,w, h] )\n",
    "        path_genes = path_df[df.index[i]].dropna()\n",
    "        path_genes_df = mut_df.loc[path_genes, df.columns[idx2]].fillna(0)\n",
    "        path_genes_df = path_genes_df.loc[path_genes_df.sum(axis=1) != 0, :]\n",
    "        sorted_df = path_genes_df.sum(axis=1).order(ascending=False)\n",
    "        path_genes_df = path_genes_df.loc[sorted_df.index]\n",
    "#         print D.shape, path_genes_df.shape, df.index[i]\n",
    "        D2 = path_genes_df.values\n",
    "        im2 = ax3.matshow(D2, aspect='auto', origin='upper', cmap=cmaps[i%len(cmaps)])\n",
    "        ax3.set_yticks(range(len(path_genes_df.index)))\n",
    "        ax3.set_yticklabels(list(path_genes_df.index), fontsize=9)\n",
    "        ax3.set_xticks([])\n",
    "        # Plot colorbar.\n",
    "        axcolor2 = fig.add_axes([0.91,y0,0.02,h])\n",
    "        plt.colorbar(im2, cax=axcolor2)\n",
    "        \n",
    "#     print path_genes_df.head()\n",
    "    plt.show()\n",
    "\n",
    "    return idx2\n",
    "\n",
    "# colors = ['g', 'b', 'r', 'c']\n",
    "# cdf['colors'] = [colors[i-1] for i in cdf['groups']]\n",
    "\n",
    "memb = hierarchical_clustering(sig_nsdf.head(), mut_df, path_df, labels)\n"
   ]
  },
  {
   "cell_type": "code",
   "execution_count": null,
   "metadata": {
    "collapsed": false
   },
   "outputs": [],
   "source": [
    "sig_nsdf.loc[:,sig_nsdf.columns[memb]].head()"
   ]
  },
  {
   "cell_type": "code",
   "execution_count": null,
   "metadata": {
    "collapsed": false
   },
   "outputs": [],
   "source": [
    "\n"
   ]
  },
  {
   "cell_type": "code",
   "execution_count": null,
   "metadata": {
    "collapsed": false
   },
   "outputs": [],
   "source": [
    "@interact(path_genes=widgets.Dropdown(description=\"Select Pathway\", options=list(sig_nsdf.index[:k])))\n",
    "def plot_matrix(path_genes):\n",
    "    path_genes = path_df[path_genes].dropna()\n",
    "    path_genes_df = mut_df.loc[path_genes, sig_nsdf.columns[memb]].fillna(0)\n",
    "    path_genes_df.loc[path_genes_df.sum(axis=1) != 0, :]\n",
    "\n",
    "    fig = plt.figure(figsize=(20,6))\n",
    "    axmatrix = fig.add_axes([0,0,0.6,0.6])\n",
    "    D = path_genes_df.values\n",
    "    im = axmatrix.matshow(D, aspect='auto', origin='lower', cmap=plt.cm.YlGnBu)\n",
    "    axmatrix.set_yticklabels([''] + list(path_genes_df.index), rotation=0)\n",
    "    axmatrix.set_xticklabels(list(sig_nsdf.columns[memb]))\n",
    "    plt.colorbar(im)\n",
    "   \n",
    "    plt.show()\n",
    "\n",
    "\n",
    "\n"
   ]
  },
  {
   "cell_type": "code",
   "execution_count": null,
   "metadata": {
    "collapsed": false
   },
   "outputs": [],
   "source": [
    "df = sig_nsdf.transpose()\n",
    "print clinical_df['Auxiliary'].value_counts()\n",
    "mss_df = clinical_df[clinical_df.Auxiliary == 'positive']\n",
    "df = df.loc[df.index.intersection(mss_df.index)]\n",
    "print df.shape\n"
   ]
  },
  {
   "cell_type": "code",
   "execution_count": null,
   "metadata": {
    "collapsed": false
   },
   "outputs": [],
   "source": [
    "X = sig_nsdf.transpose().values\n",
    "pca = PCA(n_components=5)\n",
    "X_red = pca.fit_transform(X)\n",
    "print X_red.shape, sig_nsdf.shape\n",
    "print pca.explained_variance_\n",
    "print  np.cumsum(pca.explained_variance_ratio_)\n",
    "memb = hierarchical_clustering(X_red)\n",
    "print memb.value_counts()\n",
    "\n",
    "\n"
   ]
  },
  {
   "cell_type": "code",
   "execution_count": null,
   "metadata": {
    "collapsed": false
   },
   "outputs": [],
   "source": [
    "# http://en.wikipedia.org/wiki/DNA_codon_table\n",
    "amino_acids = 'arndcqeghi'\n",
    "amino_acids += 'lkmfpstwyv'\n",
    "amino_acids += 'bo'\n",
    "codons = '4622222423'\n",
    "codons += '6212464124'\n",
    "codons += '13'\n",
    "spr = 1; nspr = 1;\n",
    "spr =  sum([int(x)-1 for x in codons])/(22*27)\n",
    "nspr = 1 - spr\n",
    "\n"
   ]
  },
  {
   "cell_type": "code",
   "execution_count": null,
   "metadata": {
    "collapsed": true
   },
   "outputs": [],
   "source": [
    "def preprocess_pathway_data():\n",
    "    \"\"\"Load GSEA MSigDB Broad Pathway DB\"\"\"\n",
    "    input_dir = '../data/pathways'\n",
    "    filename = input_dir + os.sep + 'kegg_biocarta_pid_positional.txt'\n",
    "    pathways = {}\n",
    "    with open(filename, 'r') as f:\n",
    "        for line in f:\n",
    "            p = line.strip().split('\\t')\n",
    "            pathways[p[0]] = p[2:]\n",
    "\n",
    "    df = pd.DataFrame.from_dict(pathways, orient='index').transpose()\n",
    "\n",
    "    return df"
   ]
  },
  {
   "cell_type": "code",
   "execution_count": null,
   "metadata": {
    "collapsed": false
   },
   "outputs": [],
   "source": [
    "df = preprocess_pathway_data()\n",
    "df.count().describe()"
   ]
  }
 ],
 "metadata": {
  "kernelspec": {
   "display_name": "Python 2",
   "language": "python",
   "name": "python2"
  },
  "language_info": {
   "codemirror_mode": {
    "name": "ipython",
    "version": 2
   },
   "file_extension": ".py",
   "mimetype": "text/x-python",
   "name": "python",
   "nbconvert_exporter": "python",
   "pygments_lexer": "ipython2",
   "version": "2.7.9"
  }
 },
 "nbformat": 4,
 "nbformat_minor": 0
}
