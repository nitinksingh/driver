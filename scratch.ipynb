{
 "cells": [
  {
   "cell_type": "code",
   "execution_count": null,
   "metadata": {
    "collapsed": false
   },
   "outputs": [],
   "source": [
    "from __future__ import division\n",
    "import os\n",
    "import math\n",
    "%matplotlib inline\n",
    "import numpy as np\n",
    "import matplotlib.pyplot as plt\n",
    "import pylab\n",
    "from matplotlib import rc\n",
    "import pandas as pd\n",
    "import scipy.stats as stats\n",
    "\n",
    "from sklearn.decomposition import PCA\n",
    "from IPython.html.widgets import interact\n",
    "from IPython.html import widgets\n",
    "from IPython.display import display\n",
    "\n",
    "\n",
    "from clustering import cluster_pathway_score, combined_heatmap, get_data\n",
    "from survival import survival_analysis\n",
    "from clean_data import CANCER_TYPES"
   ]
  },
  {
   "cell_type": "code",
   "execution_count": null,
   "metadata": {
    "collapsed": true
   },
   "outputs": [],
   "source": [
    "\n",
    "def KM(memb, clinical_df, cancer_type, clusters, drop=''):\n",
    "    memb = memb.copy()\n",
    "    clusts = [int(x) for x in str(clusters)]\n",
    "    rest = list(set(memb.unique()).difference(clusts))\n",
    "\n",
    "    if drop and drop > 0:    \n",
    "        ignore = [int(x) for x in str(drop)]\n",
    "        memb = memb[~memb.isin(ignore)]\n",
    "    if drop and drop < 0:    \n",
    "        ignore = rest\n",
    "        memb = memb[~memb.isin(ignore)]\n",
    "\n",
    "\n",
    "    memb[memb.isin(rest)] = rest[0]\n",
    "#     print memb.value_counts()\n",
    "    clinical_df = clinical_df.join(memb, how='inner', lsuffix='old')\n",
    "    survival_analysis(clinical_df, title=cancer_type)\n",
    "    \n",
    "    \n",
    "    return memb, clinical_df\n",
    "\n",
    "\n"
   ]
  },
  {
   "cell_type": "code",
   "execution_count": null,
   "metadata": {
    "collapsed": false
   },
   "outputs": [],
   "source": [
    "can_types = []\n",
    "for c in CANCER_TYPES:\n",
    "    f1 = '../results/' + c + os.sep + 'silent_mutation_pathway_score.txt'\n",
    "    f2 = '../results/' + c + os.sep + 'nsilent_mutation_pathway_score.txt'\n",
    "    f3 = '../data/processed/' + c + os.sep + c + '_clinical.csv'\n",
    "\n",
    "    if os.path.exists(f1) and os.path.exists(f2) and os.path.exists(f3):\n",
    "        can_types.append(c)\n",
    "    \n",
    "print \"There are %d cancer types ready to be analysed\" % len(can_types)\n",
    "can_type_wid = widgets.Dropdown(description=\"Select Cancer Type\", options=can_types)\n",
    "display(can_type_wid)\n",
    "\n"
   ]
  },
  {
   "cell_type": "code",
   "execution_count": null,
   "metadata": {
    "collapsed": false
   },
   "outputs": [],
   "source": [
    "cancer_type = can_type_wid.value\n",
    "num_pathways = 30\n",
    "memb, clinical_df, df = cluster_pathway_score(cancer_type, num_pathways)\n",
    "print memb.value_counts()"
   ]
  },
  {
   "cell_type": "code",
   "execution_count": null,
   "metadata": {
    "collapsed": false
   },
   "outputs": [],
   "source": [
    "print clinical_df.shape\n",
    "idx, clinical_df = KM(memb, clinical_df, cancer_type, 6)\n",
    "outdir = '../notes/draft-manuscript/figures/heatmaps/scratch/'\n",
    "outfile = outdir + cancer_type + '_KM' + str(num_pathways) + '_clust' + str(len(memb.value_counts())) + '.png'\n",
    "plt.savefig(outfile, transparent=True, bbox_inches='tight', pad_inches=0)\n",
    "\n",
    "# print memb.value_counts()"
   ]
  },
  {
   "cell_type": "code",
   "execution_count": null,
   "metadata": {
    "collapsed": false
   },
   "outputs": [],
   "source": [
    "num_genes=10\n",
    "fig = combined_heatmap(cancer_type, num_pathways, num_genes, groups=clinical_df['groups'].copy());\n",
    "outdir = '../notes/draft-manuscript/figures/heatmaps/scratch/'\n",
    "outfile = outdir + cancer_type + '_heatmap_pathways' + str(num_pathways) + '_genes' + str(num_genes) + '.png'\n",
    "fig.savefig(outfile, transparent=True, bbox_inches='tight', pad_inches=0)\n"
   ]
  },
  {
   "cell_type": "code",
   "execution_count": null,
   "metadata": {
    "collapsed": false
   },
   "outputs": [],
   "source": [
    "# # http://en.wikipedia.org/wiki/DNA_codon_table\n",
    "# amino_acids = 'arndcqeghi'\n",
    "# amino_acids += 'lkmfpstwyv'\n",
    "# amino_acids += 'bo'\n",
    "# codons = '4622222423'\n",
    "# codons += '6212464124'\n",
    "# codons += '13'\n",
    "# spr = 1; nspr = 1;\n",
    "# spr =  sum([int(x)-1 for x in codons])/(22*27)\n",
    "# nspr = 1 - spr\n",
    "\n"
   ]
  },
  {
   "cell_type": "code",
   "execution_count": null,
   "metadata": {
    "collapsed": false
   },
   "outputs": [],
   "source": [
    "def preprocess_pathway_data():\n",
    "    \"\"\"Load GSEA MSigDB Broad Pathway DB\"\"\"\n",
    "    input_dir = '../data/pathways'\n",
    "    filename = input_dir + os.sep + 'kegg_biocarta_pid_positional.txt'\n",
    "    pathways = {}\n",
    "    with open(filename, 'r') as f:\n",
    "        for line in f:\n",
    "            p = line.strip().split('\\t')\n",
    "            pathways[p[0]] = p[2:]\n",
    "\n",
    "    df = pd.DataFrame.from_dict(pathways, orient='index').transpose()\n",
    "\n",
    "    return df\n",
    "\n",
    "path_df = preprocess_pathway_data()\n",
    "cancer_type = can_type_wid.value\n",
    "(sig_nsdf, clinical_df) = get_data(cancer_type, 'mut', nsdf_norm_factor=1)\n",
    "path_df['chr4p11'].head()"
   ]
  },
  {
   "cell_type": "code",
   "execution_count": null,
   "metadata": {
    "collapsed": false
   },
   "outputs": [],
   "source": [
    "for i,p in enumerate(sig_nsdf.index[:5]):\n",
    "    print p\n",
    "    path_genes1 = path_df[sig_nsdf.index[i]].dropna()\n",
    "    path_genes2 = path_df[sig_nsdf.index[i+1]].dropna()\n",
    "    print len(path_genes1), len(path_genes2), set(path_genes1).intersection(set(path_genes2))\n",
    "#     path_genes_df = mut_df.loc[path_genes, sig_nsdf.columns[idx2]].fillna(0)\n",
    "#     path_genes_df = path_genes_df.loc[path_genes_df.sum(axis=1) != 0, :]\n",
    "#     sorted_df = path_genes_df.sum(axis=1).order(ascending=False)\n",
    "#     path_genes_df = path_genes_df.loc[sorted_df.index[:num_genes]]\n"
   ]
  }
 ],
 "metadata": {
  "kernelspec": {
   "display_name": "Python 2",
   "language": "python",
   "name": "python2"
  },
  "language_info": {
   "codemirror_mode": {
    "name": "ipython",
    "version": 2
   },
   "file_extension": ".py",
   "mimetype": "text/x-python",
   "name": "python",
   "nbconvert_exporter": "python",
   "pygments_lexer": "ipython2",
   "version": "2.7.9"
  }
 },
 "nbformat": 4,
 "nbformat_minor": 0
}
