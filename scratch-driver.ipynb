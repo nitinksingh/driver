{
 "metadata": {
  "name": "",
  "signature": "sha256:d597de32c22d1643d4a50d3b900b41f4ad31f1e4a6a763e1027c8fd842d2a949"
 },
 "nbformat": 3,
 "nbformat_minor": 0,
 "worksheets": [
  {
   "cells": [
    {
     "cell_type": "code",
     "collapsed": false,
     "input": [
      "from __future__ import division\n",
      "%matplotlib inline\n",
      "import numpy as np\n",
      "import matplotlib.pyplot as plt\n",
      "import pylab\n",
      "import itertools\n",
      "import math\n",
      "from matplotlib import rc\n",
      "import scipy as sc\n",
      "import pandas as pd\n",
      "\n",
      "from utils import *\n",
      "from clean_data import *"
     ],
     "language": "python",
     "metadata": {},
     "outputs": [],
     "prompt_number": 1
    },
    {
     "cell_type": "code",
     "collapsed": false,
     "input": [
      "rc('text', usetex=True)\n",
      "plt.plot(range(1, 10), np.array(range(1, 10))**2, label=r\"Parabola: $\\displaystyle k$\")\n",
      "#plt.axis([m, n, min(lower_bound)-2, 2+max(max(upper_bound), max(max_norm_list))])\n",
      "plt.xlabel(\"Number of Nodes\")\n",
      "plt.ylabel(\"Approximate Rank\")\n",
      "plt.title(\"Network with FIXED Number of Communities\")\n",
      "plt.legend(bbox_to_anchor=(1.05, 1), loc=2, borderaxespad=0.)"
     ],
     "language": "python",
     "metadata": {},
     "outputs": [
      {
       "metadata": {},
       "output_type": "pyout",
       "prompt_number": 5,
       "text": [
        "<matplotlib.legend.Legend at 0x107961cd0>"
       ]
      },
      {
       "metadata": {},
       "output_type": "display_data",
       "png": "[encoded data removed]",
       "text": [
        "<matplotlib.figure.Figure at 0x1078c6390>"
       ]
      }
     ],
     "prompt_number": 5
    },
    {
     "cell_type": "code",
     "collapsed": false,
     "input": [
      "df = preprocess_pathway_data()\n",
      "plt.hist(df.count(), 50, normed=True, cumulative=True);"
     ],
     "language": "python",
     "metadata": {},
     "outputs": [
      {
       "metadata": {},
       "output_type": "display_data",
       "png": "[encoded data removed]",
       "text": [
        "<matplotlib.figure.Figure at 0x109db5fd0>"
       ]
      }
     ],
     "prompt_number": 19
    },
    {
     "cell_type": "code",
     "collapsed": false,
     "input": [
      "df.count().describe()"
     ],
     "language": "python",
     "metadata": {},
     "outputs": [
      {
       "metadata": {},
       "output_type": "pyout",
       "prompt_number": 23,
       "text": [
        "count    599.000000\n",
        "mean      42.577629\n",
        "std       40.407294\n",
        "min        6.000000\n",
        "25%       18.000000\n",
        "50%       31.000000\n",
        "75%       52.000000\n",
        "max      389.000000\n",
        "dtype: float64"
       ]
      }
     ],
     "prompt_number": 23
    },
    {
     "cell_type": "code",
     "collapsed": false,
     "input": [
      "\"\"\" See sample distribution \"\"\"\n",
      "input_dir = '/Users/nitin/research/driver/data'                                \n",
      "output_dir = input_dir + os.sep + 'processed'                                  \n",
      "CANCER_TYPES = ['LUAD', 'LUSC']                                                \n",
      "GDAC_PREFIX = 'gdac.broadinstitute.org_'                                       \n",
      "\n",
      "if not os.path.exists(output_dir):                                             \n",
      "    os.mkdir(output_dir)                                                       \n",
      "\n",
      "\n",
      "for c in CANCER_TYPES:                                                         \n",
      "    can_dir = output_dir + os.sep + c                                          \n",
      "    if not os.path.exists(can_dir):                                            \n",
      "        os.mkdir(can_dir) \n",
      "        \n",
      "    # RNA-Seq                                                                  \n",
      "    rnaseq_tar = input_dir + os.sep + 'stddata__2014_12_06' + os.sep + \\\n",
      "                c + os.sep + '20141206' + os.sep + GDAC_PREFIX + c + \\\n",
      "                '.mRNAseq_Preprocess.Level_3.2014120600.0.0.tar.gz'            \n",
      "    rnaseq_file = c + '.uncv2.mRNAseq_RSEM_normalized_log2.txt'                \n",
      "\n",
      "    extracted_rnaseq_file = tar_extract(rnaseq_tar, rnaseq_file, can_dir)  \n",
      "    df = read_matrix_format_data(extracted_rnaseq_file)                                      \n",
      "    headers = df.columns[1:]\n",
      "    samples = pd.Series([int(x.split('-')[3][:2]) for x in headers]).value_counts().sort_index()\n",
      "    print c, \"RNA-Seq \\n\", samples\n",
      "    \n",
      "    \n",
      "\n",
      "    # CNA                                                                      \n",
      "    cna_tar = input_dir + os.sep + 'analyses__2014_10_17' + \\\n",
      "                os.sep + c + os.sep + '20141017' + os.sep + GDAC_PREFIX + \\\n",
      "                c + '-TP.CopyNumber_Gistic2.Level_4.2014101700.0.0.tar.gz'  \n",
      "    cna_file = 'all_thresholded.by_genes.txt'                                  \n",
      "\n",
      "\n",
      "    extracted_cna_file = tar_extract(cna_tar, cna_file, can_dir)              \n",
      "    df = read_matrix_format_data(extracted_cna_file)                                      \n",
      "    headers = df.columns[3:]\n",
      "    samples = pd.Series([int(x.split('-')[3][:2]) for x in headers]).value_counts().sort_index()\n",
      "    print c, \"CNA \\n\", samples\n",
      "\n",
      "    #samples.plot(kind='bar')\n",
      "    \n",
      "    #error()\n",
      "\n",
      "    \n",
      "      "
     ],
     "language": "python",
     "metadata": {},
     "outputs": [
      {
       "output_type": "stream",
       "stream": "stdout",
       "text": [
        "LUAD RNA-Seq \n",
        "1     511\n",
        "2       2\n",
        "11     58\n",
        "dtype: int64\n",
        "LUAD"
       ]
      },
      {
       "output_type": "stream",
       "stream": "stdout",
       "text": [
        " CNA \n",
        "1    515\n",
        "dtype: int64\n",
        "LUSC"
       ]
      },
      {
       "output_type": "stream",
       "stream": "stdout",
       "text": [
        " RNA-Seq \n",
        "1     501\n",
        "11     51\n",
        "dtype: int64\n",
        "LUSC"
       ]
      },
      {
       "output_type": "stream",
       "stream": "stdout",
       "text": [
        " CNA \n",
        "1    501\n",
        "dtype: int64\n"
       ]
      }
     ],
     "prompt_number": 10
    },
    {
     "cell_type": "code",
     "collapsed": false,
     "input": [
      "samples"
     ],
     "language": "python",
     "metadata": {},
     "outputs": [
      {
       "metadata": {},
       "output_type": "pyout",
       "prompt_number": 6,
       "text": [
        "1     501\n",
        "11     51\n",
        "dtype: int64"
       ]
      }
     ],
     "prompt_number": 6
    }
   ],
   "metadata": {}
  }
 ]
}